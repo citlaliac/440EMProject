{
 "cells": [
  {
   "cell_type": "code",
   "execution_count": 1,
   "metadata": {
    "collapsed": true
   },
   "outputs": [],
   "source": [
    "import pandas as pd\n",
    "import numpy as np\n",
    "from bs4 import BeautifulSoup\n",
    "import requests"
   ]
  },
  {
   "cell_type": "code",
   "execution_count": 26,
   "metadata": {},
   "outputs": [
    {
     "name": "stdout",
     "output_type": "stream",
     "text": [
      "ottr20171231_10k.htm\n",
      "1 10K is appended\n",
      "t1700327_10ka.htm\n",
      "2 10K is appended\n",
      "ois20171231_10k.htm\n",
      "3 10K is appended\n"
     ]
    }
   ],
   "source": [
    "listOf10ks = []\n",
    "actual10Ks = []\n",
    "linkTo10K = ''\n",
    "mainurl = \"https://www.sec.gov\"\n",
    "count = 1\n",
    "\n",
    "cikList = ['0001466593', '0001121484']\n",
    "for cik in cikList:\n",
    "    url = \"https://www.sec.gov/cgi-bin/browse-edgar?action=getcompany&CIK=\" + cik + \"&owner=include&count=40\"\n",
    "    r=requests.get(url)\n",
    "    data=r.text\n",
    "    soup = BeautifulSoup(data, 'lxml')\n",
    "    for links in soup.find_all('tr'):\n",
    "        if '10-K' in links.text:\n",
    "            for element in links.find_all('a'):\n",
    "                if element.text == '\\xa0Documents':\n",
    "                    listOf10ks = element.get('href')\n",
    "                    r=requests.get(mainurl + listOf10ks)\n",
    "                    data=r.text\n",
    "                    soup = BeautifulSoup(data, 'lxml')\n",
    "                    for links in soup.find_all('tr'):\n",
    "                        if '10-K' in links.text:\n",
    "                            for element in links.find_all('a'):\n",
    "                                print(element.text)\n",
    "                                linkTo10K = element.get('href')\n",
    "                                r=requests.get(mainurl + linkTo10K)\n",
    "                                data=r.text\n",
    "                                soup = BeautifulSoup(data, 'lxml')\n",
    "                                actual10Ks.append(soup)\n",
    "                                print(str(count) + ' 10K is appended')\n",
    "                                count +=1"
   ]
  },
  {
   "cell_type": "code",
   "execution_count": 28,
   "metadata": {},
   "outputs": [
    {
     "data": {
      "text/plain": [
       "3"
      ]
     },
     "execution_count": 28,
     "metadata": {},
     "output_type": "execute_result"
    }
   ],
   "source": [
    "len(actual10Ks)"
   ]
  },
  {
   "cell_type": "code",
   "execution_count": null,
   "metadata": {
    "collapsed": true
   },
   "outputs": [],
   "source": []
  }
 ],
 "metadata": {
  "kernelspec": {
   "display_name": "Python 3",
   "language": "python",
   "name": "python3"
  },
  "language_info": {
   "codemirror_mode": {
    "name": "ipython",
    "version": 3
   },
   "file_extension": ".py",
   "mimetype": "text/x-python",
   "name": "python",
   "nbconvert_exporter": "python",
   "pygments_lexer": "ipython3",
   "version": "3.6.1"
  }
 },
 "nbformat": 4,
 "nbformat_minor": 2
}

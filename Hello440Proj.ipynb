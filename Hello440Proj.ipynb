{
 "cells": [
  {
   "cell_type": "code",
   "execution_count": 1,
   "metadata": {},
   "outputs": [
    {
     "name": "stdout",
     "output_type": "stream",
     "text": [
      "Hello 440 Project\n"
     ]
    }
   ],
   "source": [
    "print (\"Hello 440 Project\")"
   ]
  },
  {
   "cell_type": "code",
   "execution_count": 1,
   "metadata": {},
   "outputs": [
    {
     "name": "stdout",
     "output_type": "stream",
     "text": [
      "This is super difficult. Why is it so bad?\n"
     ]
    }
   ],
   "source": [
    "print(\"This is super difficult. Why is it so bad?\")"
   ]
  },
  {
   "cell_type": "code",
   "execution_count": 1,
   "metadata": {},
   "outputs": [
    {
     "name": "stdout",
     "output_type": "stream",
     "text": [
      "Test test\n"
     ]
    }
   ],
   "source": [
    "print (\"Test test\")"
   ]
  },
  {
   "cell_type": "code",
   "execution_count": 1,
   "metadata": {},
   "outputs": [
    {
     "name": "stdout",
     "output_type": "stream",
     "text": [
<<<<<<< HEAD
      "thomas Ramirez\n"
=======
      "WHy god\n"
>>>>>>> 6aa79268bb082ba03efe5f16a488006df91f9733
     ]
    }
   ],
   "source": [
<<<<<<< HEAD
    "print(\"thomas Ramirez\")"
=======
    "print (\"WHy god\"\n",
    "      )"
   ]
  },
  {
   "cell_type": "code",
   "execution_count": 1,
   "metadata": {},
   "outputs": [
    {
     "name": "stdout",
     "output_type": "stream",
     "text": [
      "fjjdkfjadslkfj\n"
     ]
    }
   ],
   "source": [
    "print('fjjdkfjadslkfj')"
>>>>>>> 6aa79268bb082ba03efe5f16a488006df91f9733
   ]
  },
  {
   "cell_type": "code",
   "execution_count": null,
   "metadata": {
    "collapsed": true
   },
   "outputs": [],
   "source": []
  }
 ],
 "metadata": {
  "kernelspec": {
   "display_name": "Python 3",
   "language": "python",
   "name": "python3"
  },
  "language_info": {
   "codemirror_mode": {
    "name": "ipython",
    "version": 3
   },
   "file_extension": ".py",
   "mimetype": "text/x-python",
   "name": "python",
   "nbconvert_exporter": "python",
   "pygments_lexer": "ipython3",
   "version": "3.6.3"
  }
 },
 "nbformat": 4,
 "nbformat_minor": 2
}
